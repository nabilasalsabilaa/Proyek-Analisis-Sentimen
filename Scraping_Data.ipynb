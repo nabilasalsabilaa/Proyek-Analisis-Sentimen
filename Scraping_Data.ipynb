{
  "nbformat": 4,
  "nbformat_minor": 0,
  "metadata": {
    "colab": {
      "provenance": []
    },
    "kernelspec": {
      "name": "python3",
      "display_name": "Python 3"
    },
    "language_info": {
      "name": "python"
    }
  },
  "cells": [
    {
      "cell_type": "markdown",
      "source": [
        "# Scraping data of Gojek App Reviews"
      ],
      "metadata": {
        "id": "RMKAaUaiQIJq"
      }
    },
    {
      "cell_type": "code",
      "source": [
        "pip install google-play-scraper"
      ],
      "metadata": {
        "colab": {
          "base_uri": "https://localhost:8080/"
        },
        "id": "tU1Py7k0QFD6",
        "outputId": "4e2cb9eb-3afc-4cdc-8901-7c24a0326b43"
      },
      "execution_count": 1,
      "outputs": [
        {
          "output_type": "stream",
          "name": "stdout",
          "text": [
            "Collecting google-play-scraper\n",
            "  Downloading google_play_scraper-1.2.7-py3-none-any.whl.metadata (50 kB)\n",
            "\u001b[?25l     \u001b[90m━━━━━━━━━━━━━━━━━━━━━━━━━━━━━━━━━━━━━━━━\u001b[0m \u001b[32m0.0/50.2 kB\u001b[0m \u001b[31m?\u001b[0m eta \u001b[36m-:--:--\u001b[0m\r\u001b[2K     \u001b[90m━━━━━━━━━━━━━━━━━━━━━━━━━━━━━━━━━━━━━━━━\u001b[0m \u001b[32m50.2/50.2 kB\u001b[0m \u001b[31m1.5 MB/s\u001b[0m eta \u001b[36m0:00:00\u001b[0m\n",
            "\u001b[?25hDownloading google_play_scraper-1.2.7-py3-none-any.whl (28 kB)\n",
            "Installing collected packages: google-play-scraper\n",
            "Successfully installed google-play-scraper-1.2.7\n"
          ]
        }
      ]
    },
    {
      "cell_type": "code",
      "source": [
        "from google_play_scraper import Sort, reviews\n",
        "import csv"
      ],
      "metadata": {
        "id": "-49hXw0PQFZx"
      },
      "execution_count": 2,
      "outputs": []
    },
    {
      "cell_type": "code",
      "source": [
        "# Mengambil ulasan aplikasi Gojek\n",
        "result, continuation_token = reviews(\n",
        "    'com.gojek.app',\n",
        "    lang='id',\n",
        "    country='id',\n",
        "    sort=Sort.NEWEST,\n",
        "    count=10000\n",
        ")"
      ],
      "metadata": {
        "id": "sEMEwpw7QvlE"
      },
      "execution_count": 3,
      "outputs": []
    },
    {
      "cell_type": "code",
      "source": [
        "# Menampilkan beberapa ulasan sebagai contoh\n",
        "for review in result[:10]:\n",
        "    print(f\"Ulasan: {review['content']}, Rating: {review['score']}\")"
      ],
      "metadata": {
        "colab": {
          "base_uri": "https://localhost:8080/"
        },
        "id": "6Eb-cXQiQzn7",
        "outputId": "613fd4e0-7bec-4372-b190-aaf41c819a7f"
      },
      "execution_count": 4,
      "outputs": [
        {
          "output_type": "stream",
          "name": "stdout",
          "text": [
            "Ulasan: Sangat membantu, Rating: 5\n",
            "Ulasan: Aplikasi yang sangat membantu sekali, Rating: 5\n",
            "Ulasan: Mari bersama2 pindah menggunakan grab sebab ini aplikasi sudah tidak berguna., Rating: 1\n",
            "Ulasan: beli paket pakai gopay berhasil tp paket internet ga nyampe perusahaan gojek sarat korupsi anjay, Rating: 1\n",
            "Ulasan: Mantappp, Rating: 5\n",
            "Ulasan: Gojek is the best pokoknya dah, Rating: 5\n",
            "Ulasan: Ok banget, Rating: 5\n",
            "Ulasan: akurat, Rating: 5\n",
            "Ulasan: Sukaaa banget.. banyak banget promo nya.. sangat membantu sekali, Rating: 5\n",
            "Ulasan: Sebenernya saya suka karena pakai gofood tapi kok tau2 saya dihubungi pihak license gopay pinjam. Saya tidak pernah memakai bahkan daftar gopay pinjam pun tidak pernah tau-tau ditagih, mana nagihnya bikin kaget pula tau2 spam. Saya menyesal memakai gojek. Saya segera unnistall setelah masalah selesai, Rating: 1\n"
          ]
        }
      ]
    },
    {
      "cell_type": "code",
      "source": [
        "# Menyimpan hasil ke file CSV\n",
        "with open('gojek_reviews.csv', mode='w', newline='', encoding='utf-8') as file:\n",
        "    writer = csv.writer(file)\n",
        "    writer.writerow(['Review', 'Rating', 'Thumbs Up Count', 'Review Date'])\n",
        "\n",
        "    # Menyimpan semua ulasan ke file\n",
        "    for review in result:\n",
        "        writer.writerow([review['content'], review['score'], review['thumbsUpCount'], review['at']])"
      ],
      "metadata": {
        "id": "i_UV10NLQ2dT"
      },
      "execution_count": 5,
      "outputs": []
    }
  ]
}